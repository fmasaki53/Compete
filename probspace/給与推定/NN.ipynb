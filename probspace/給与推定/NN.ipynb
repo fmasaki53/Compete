{
 "cells": [
  {
   "cell_type": "code",
   "execution_count": 60,
   "metadata": {},
   "outputs": [
    {
     "name": "stdout",
     "output_type": "stream",
     "text": [
      "2.4.1\n"
     ]
    }
   ],
   "source": [
    "import pandas as pd\n",
    "import numpy as np\n",
    "import matplotlib.pyplot as plt\n",
    "%matplotlib inline\n",
    "\n",
    "import tensorflow as tf\n",
    "from tensorflow import keras\n",
    "from tensorflow.keras import layers\n",
    "\n",
    "from IPython.core.interactiveshell import InteractiveShell\n",
    "InteractiveShell.ast_node_interactivity = \"all\"\n",
    "\n",
    "print(tf.__version__)"
   ]
  },
  {
   "cell_type": "code",
   "execution_count": 61,
   "metadata": {},
   "outputs": [],
   "source": [
    "train_norm = pd.read_csv('../data/train_norm.csv')\n",
    "test_norm = pd.read_csv('../data/test_norm.csv')\n",
    "\n",
    "train = pd.read_csv('../data/train_data.csv')\n",
    "test = pd.read_csv('../data/test_data.csv')"
   ]
  },
  {
   "cell_type": "code",
   "execution_count": 62,
   "metadata": {},
   "outputs": [
    {
     "data": {
      "text/plain": [
       "(21000, 13)"
      ]
     },
     "execution_count": 62,
     "metadata": {},
     "output_type": "execute_result"
    },
    {
     "data": {
      "text/plain": [
       "(9000, 12)"
      ]
     },
     "execution_count": 62,
     "metadata": {},
     "output_type": "execute_result"
    },
    {
     "data": {
      "text/plain": [
       "(21000, 109)"
      ]
     },
     "execution_count": 62,
     "metadata": {},
     "output_type": "execute_result"
    },
    {
     "data": {
      "text/plain": [
       "(9000, 109)"
      ]
     },
     "execution_count": 62,
     "metadata": {},
     "output_type": "execute_result"
    }
   ],
   "source": [
    "train.shape\n",
    "test.shape\n",
    "train_norm.shape\n",
    "test_norm.shape"
   ]
  },
  {
   "cell_type": "code",
   "execution_count": 63,
   "metadata": {},
   "outputs": [
    {
     "data": {
      "text/plain": [
       "Index(['Unnamed: 0', 'position', 'age', 'sex', 'partner', 'num_child',\n",
       "       'education', 'service_length', 'study_time', 'commute',\n",
       "       ...\n",
       "       'agelayer_and_position_0_2', 'agelayer_and_position_1_0',\n",
       "       'agelayer_and_position_1_1', 'agelayer_and_position_1_2',\n",
       "       'agelayer_and_position_1_3', 'agelayer_and_position_2_0',\n",
       "       'agelayer_and_position_2_1', 'agelayer_and_position_2_2',\n",
       "       'agelayer_and_position_2_3', 'agelayer_and_position_2_4'],\n",
       "      dtype='object', length=109)"
      ]
     },
     "execution_count": 63,
     "metadata": {},
     "output_type": "execute_result"
    }
   ],
   "source": [
    "train_norm.columns"
   ]
  },
  {
   "cell_type": "code",
   "execution_count": 64,
   "metadata": {},
   "outputs": [
    {
     "data": {
      "text/html": [
       "<div>\n",
       "<style scoped>\n",
       "    .dataframe tbody tr th:only-of-type {\n",
       "        vertical-align: middle;\n",
       "    }\n",
       "\n",
       "    .dataframe tbody tr th {\n",
       "        vertical-align: top;\n",
       "    }\n",
       "\n",
       "    .dataframe thead th {\n",
       "        text-align: right;\n",
       "    }\n",
       "</style>\n",
       "<table border=\"1\" class=\"dataframe\">\n",
       "  <thead>\n",
       "    <tr style=\"text-align: right;\">\n",
       "      <th></th>\n",
       "      <th>position</th>\n",
       "      <th>age</th>\n",
       "      <th>sex</th>\n",
       "      <th>partner</th>\n",
       "      <th>num_child</th>\n",
       "      <th>education</th>\n",
       "      <th>service_length</th>\n",
       "      <th>study_time</th>\n",
       "      <th>commute</th>\n",
       "      <th>overtime</th>\n",
       "      <th>...</th>\n",
       "      <th>agelayer_and_position_0_2</th>\n",
       "      <th>agelayer_and_position_1_0</th>\n",
       "      <th>agelayer_and_position_1_1</th>\n",
       "      <th>agelayer_and_position_1_2</th>\n",
       "      <th>agelayer_and_position_1_3</th>\n",
       "      <th>agelayer_and_position_2_0</th>\n",
       "      <th>agelayer_and_position_2_1</th>\n",
       "      <th>agelayer_and_position_2_2</th>\n",
       "      <th>agelayer_and_position_2_3</th>\n",
       "      <th>agelayer_and_position_2_4</th>\n",
       "    </tr>\n",
       "  </thead>\n",
       "  <tbody>\n",
       "    <tr>\n",
       "      <th>0</th>\n",
       "      <td>-0.185238</td>\n",
       "      <td>1.014212</td>\n",
       "      <td>1.003315</td>\n",
       "      <td>1.001310</td>\n",
       "      <td>0.705723</td>\n",
       "      <td>-0.088298</td>\n",
       "      <td>1.093489</td>\n",
       "      <td>-0.551922</td>\n",
       "      <td>0.250411</td>\n",
       "      <td>-0.580611</td>\n",
       "      <td>...</td>\n",
       "      <td>-0.030875</td>\n",
       "      <td>-0.751145</td>\n",
       "      <td>-0.291813</td>\n",
       "      <td>-0.137017</td>\n",
       "      <td>-0.028463</td>\n",
       "      <td>-0.011953</td>\n",
       "      <td>2.738917</td>\n",
       "      <td>-0.524583</td>\n",
       "      <td>-0.342076</td>\n",
       "      <td>-0.243994</td>\n",
       "    </tr>\n",
       "    <tr>\n",
       "      <th>1</th>\n",
       "      <td>0.631301</td>\n",
       "      <td>-0.199013</td>\n",
       "      <td>-0.996648</td>\n",
       "      <td>-0.998644</td>\n",
       "      <td>-0.705252</td>\n",
       "      <td>-0.984070</td>\n",
       "      <td>0.065146</td>\n",
       "      <td>1.561014</td>\n",
       "      <td>0.525330</td>\n",
       "      <td>0.020443</td>\n",
       "      <td>...</td>\n",
       "      <td>-0.030875</td>\n",
       "      <td>-0.751145</td>\n",
       "      <td>-0.291813</td>\n",
       "      <td>-0.137017</td>\n",
       "      <td>-0.028463</td>\n",
       "      <td>-0.011953</td>\n",
       "      <td>-0.365090</td>\n",
       "      <td>1.906185</td>\n",
       "      <td>-0.342076</td>\n",
       "      <td>-0.243994</td>\n",
       "    </tr>\n",
       "    <tr>\n",
       "      <th>2</th>\n",
       "      <td>0.631301</td>\n",
       "      <td>0.267612</td>\n",
       "      <td>-0.996648</td>\n",
       "      <td>-0.998644</td>\n",
       "      <td>-0.705252</td>\n",
       "      <td>0.807475</td>\n",
       "      <td>0.158632</td>\n",
       "      <td>0.051774</td>\n",
       "      <td>-0.299425</td>\n",
       "      <td>0.865676</td>\n",
       "      <td>...</td>\n",
       "      <td>-0.030875</td>\n",
       "      <td>-0.751145</td>\n",
       "      <td>-0.291813</td>\n",
       "      <td>-0.137017</td>\n",
       "      <td>-0.028463</td>\n",
       "      <td>-0.011953</td>\n",
       "      <td>-0.365090</td>\n",
       "      <td>1.906185</td>\n",
       "      <td>-0.342076</td>\n",
       "      <td>-0.243994</td>\n",
       "    </tr>\n",
       "    <tr>\n",
       "      <th>3</th>\n",
       "      <td>-1.001776</td>\n",
       "      <td>-1.038938</td>\n",
       "      <td>1.003315</td>\n",
       "      <td>-0.998644</td>\n",
       "      <td>-0.705252</td>\n",
       "      <td>-0.984070</td>\n",
       "      <td>-0.776225</td>\n",
       "      <td>-0.250074</td>\n",
       "      <td>-1.399099</td>\n",
       "      <td>-1.162883</td>\n",
       "      <td>...</td>\n",
       "      <td>-0.030875</td>\n",
       "      <td>1.331237</td>\n",
       "      <td>-0.291813</td>\n",
       "      <td>-0.137017</td>\n",
       "      <td>-0.028463</td>\n",
       "      <td>-0.011953</td>\n",
       "      <td>-0.365090</td>\n",
       "      <td>-0.524583</td>\n",
       "      <td>-0.342076</td>\n",
       "      <td>-0.243994</td>\n",
       "    </tr>\n",
       "    <tr>\n",
       "      <th>4</th>\n",
       "      <td>-1.001776</td>\n",
       "      <td>-0.758963</td>\n",
       "      <td>1.003315</td>\n",
       "      <td>-0.998644</td>\n",
       "      <td>-0.705252</td>\n",
       "      <td>-0.088298</td>\n",
       "      <td>-0.682739</td>\n",
       "      <td>-0.250074</td>\n",
       "      <td>-0.849262</td>\n",
       "      <td>-1.388278</td>\n",
       "      <td>...</td>\n",
       "      <td>-0.030875</td>\n",
       "      <td>1.331237</td>\n",
       "      <td>-0.291813</td>\n",
       "      <td>-0.137017</td>\n",
       "      <td>-0.028463</td>\n",
       "      <td>-0.011953</td>\n",
       "      <td>-0.365090</td>\n",
       "      <td>-0.524583</td>\n",
       "      <td>-0.342076</td>\n",
       "      <td>-0.243994</td>\n",
       "    </tr>\n",
       "  </tbody>\n",
       "</table>\n",
       "<p>5 rows × 108 columns</p>\n",
       "</div>"
      ],
      "text/plain": [
       "   position       age       sex   partner  num_child  education  \\\n",
       "0 -0.185238  1.014212  1.003315  1.001310   0.705723  -0.088298   \n",
       "1  0.631301 -0.199013 -0.996648 -0.998644  -0.705252  -0.984070   \n",
       "2  0.631301  0.267612 -0.996648 -0.998644  -0.705252   0.807475   \n",
       "3 -1.001776 -1.038938  1.003315 -0.998644  -0.705252  -0.984070   \n",
       "4 -1.001776 -0.758963  1.003315 -0.998644  -0.705252  -0.088298   \n",
       "\n",
       "   service_length  study_time   commute  overtime  ...  \\\n",
       "0        1.093489   -0.551922  0.250411 -0.580611  ...   \n",
       "1        0.065146    1.561014  0.525330  0.020443  ...   \n",
       "2        0.158632    0.051774 -0.299425  0.865676  ...   \n",
       "3       -0.776225   -0.250074 -1.399099 -1.162883  ...   \n",
       "4       -0.682739   -0.250074 -0.849262 -1.388278  ...   \n",
       "\n",
       "   agelayer_and_position_0_2  agelayer_and_position_1_0  \\\n",
       "0                  -0.030875                  -0.751145   \n",
       "1                  -0.030875                  -0.751145   \n",
       "2                  -0.030875                  -0.751145   \n",
       "3                  -0.030875                   1.331237   \n",
       "4                  -0.030875                   1.331237   \n",
       "\n",
       "   agelayer_and_position_1_1  agelayer_and_position_1_2  \\\n",
       "0                  -0.291813                  -0.137017   \n",
       "1                  -0.291813                  -0.137017   \n",
       "2                  -0.291813                  -0.137017   \n",
       "3                  -0.291813                  -0.137017   \n",
       "4                  -0.291813                  -0.137017   \n",
       "\n",
       "   agelayer_and_position_1_3  agelayer_and_position_2_0  \\\n",
       "0                  -0.028463                  -0.011953   \n",
       "1                  -0.028463                  -0.011953   \n",
       "2                  -0.028463                  -0.011953   \n",
       "3                  -0.028463                  -0.011953   \n",
       "4                  -0.028463                  -0.011953   \n",
       "\n",
       "   agelayer_and_position_2_1  agelayer_and_position_2_2  \\\n",
       "0                   2.738917                  -0.524583   \n",
       "1                  -0.365090                   1.906185   \n",
       "2                  -0.365090                   1.906185   \n",
       "3                  -0.365090                  -0.524583   \n",
       "4                  -0.365090                  -0.524583   \n",
       "\n",
       "   agelayer_and_position_2_3  agelayer_and_position_2_4  \n",
       "0                  -0.342076                  -0.243994  \n",
       "1                  -0.342076                  -0.243994  \n",
       "2                  -0.342076                  -0.243994  \n",
       "3                  -0.342076                  -0.243994  \n",
       "4                  -0.342076                  -0.243994  \n",
       "\n",
       "[5 rows x 108 columns]"
      ]
     },
     "execution_count": 64,
     "metadata": {},
     "output_type": "execute_result"
    },
    {
     "data": {
      "text/html": [
       "<div>\n",
       "<style scoped>\n",
       "    .dataframe tbody tr th:only-of-type {\n",
       "        vertical-align: middle;\n",
       "    }\n",
       "\n",
       "    .dataframe tbody tr th {\n",
       "        vertical-align: top;\n",
       "    }\n",
       "\n",
       "    .dataframe thead th {\n",
       "        text-align: right;\n",
       "    }\n",
       "</style>\n",
       "<table border=\"1\" class=\"dataframe\">\n",
       "  <thead>\n",
       "    <tr style=\"text-align: right;\">\n",
       "      <th></th>\n",
       "      <th>position</th>\n",
       "      <th>age</th>\n",
       "      <th>sex</th>\n",
       "      <th>partner</th>\n",
       "      <th>num_child</th>\n",
       "      <th>education</th>\n",
       "      <th>service_length</th>\n",
       "      <th>study_time</th>\n",
       "      <th>commute</th>\n",
       "      <th>overtime</th>\n",
       "      <th>...</th>\n",
       "      <th>agelayer_and_position_0_2</th>\n",
       "      <th>agelayer_and_position_1_0</th>\n",
       "      <th>agelayer_and_position_1_1</th>\n",
       "      <th>agelayer_and_position_1_2</th>\n",
       "      <th>agelayer_and_position_1_3</th>\n",
       "      <th>agelayer_and_position_2_0</th>\n",
       "      <th>agelayer_and_position_2_1</th>\n",
       "      <th>agelayer_and_position_2_2</th>\n",
       "      <th>agelayer_and_position_2_3</th>\n",
       "      <th>agelayer_and_position_2_4</th>\n",
       "    </tr>\n",
       "  </thead>\n",
       "  <tbody>\n",
       "    <tr>\n",
       "      <th>0</th>\n",
       "      <td>1.499887</td>\n",
       "      <td>0.566331</td>\n",
       "      <td>1.022418</td>\n",
       "      <td>0.992638</td>\n",
       "      <td>2.844446</td>\n",
       "      <td>-0.080373</td>\n",
       "      <td>0.641100</td>\n",
       "      <td>-0.804253</td>\n",
       "      <td>0.826414</td>\n",
       "      <td>1.103082</td>\n",
       "      <td>...</td>\n",
       "      <td>-0.031637</td>\n",
       "      <td>-0.776575</td>\n",
       "      <td>-0.281986</td>\n",
       "      <td>-0.138329</td>\n",
       "      <td>-0.027898</td>\n",
       "      <td>-0.014908</td>\n",
       "      <td>-0.363402</td>\n",
       "      <td>-0.52882</td>\n",
       "      <td>3.003543</td>\n",
       "      <td>-0.229939</td>\n",
       "    </tr>\n",
       "    <tr>\n",
       "      <th>1</th>\n",
       "      <td>-0.155617</td>\n",
       "      <td>-0.181027</td>\n",
       "      <td>-0.977965</td>\n",
       "      <td>-1.007304</td>\n",
       "      <td>-0.712198</td>\n",
       "      <td>2.615369</td>\n",
       "      <td>-1.134887</td>\n",
       "      <td>-1.108165</td>\n",
       "      <td>-0.004509</td>\n",
       "      <td>1.968836</td>\n",
       "      <td>...</td>\n",
       "      <td>-0.031637</td>\n",
       "      <td>-0.776575</td>\n",
       "      <td>-0.281986</td>\n",
       "      <td>-0.138329</td>\n",
       "      <td>-0.027898</td>\n",
       "      <td>-0.014908</td>\n",
       "      <td>2.751470</td>\n",
       "      <td>-0.52882</td>\n",
       "      <td>-0.332903</td>\n",
       "      <td>-0.229939</td>\n",
       "    </tr>\n",
       "    <tr>\n",
       "      <th>2</th>\n",
       "      <td>-0.983369</td>\n",
       "      <td>-1.208643</td>\n",
       "      <td>1.022418</td>\n",
       "      <td>0.992638</td>\n",
       "      <td>0.710459</td>\n",
       "      <td>-0.978954</td>\n",
       "      <td>-0.947941</td>\n",
       "      <td>-0.500341</td>\n",
       "      <td>-0.835431</td>\n",
       "      <td>-1.238389</td>\n",
       "      <td>...</td>\n",
       "      <td>-0.031637</td>\n",
       "      <td>-0.776575</td>\n",
       "      <td>-0.281986</td>\n",
       "      <td>-0.138329</td>\n",
       "      <td>-0.027898</td>\n",
       "      <td>-0.014908</td>\n",
       "      <td>-0.363402</td>\n",
       "      <td>-0.52882</td>\n",
       "      <td>-0.332903</td>\n",
       "      <td>-0.229939</td>\n",
       "    </tr>\n",
       "    <tr>\n",
       "      <th>3</th>\n",
       "      <td>-0.983369</td>\n",
       "      <td>-0.461286</td>\n",
       "      <td>1.022418</td>\n",
       "      <td>-1.007304</td>\n",
       "      <td>-0.712198</td>\n",
       "      <td>-0.978954</td>\n",
       "      <td>-0.200157</td>\n",
       "      <td>-0.196428</td>\n",
       "      <td>-0.558457</td>\n",
       "      <td>-0.116844</td>\n",
       "      <td>...</td>\n",
       "      <td>-0.031637</td>\n",
       "      <td>1.287563</td>\n",
       "      <td>-0.281986</td>\n",
       "      <td>-0.138329</td>\n",
       "      <td>-0.027898</td>\n",
       "      <td>-0.014908</td>\n",
       "      <td>-0.363402</td>\n",
       "      <td>-0.52882</td>\n",
       "      <td>-0.332903</td>\n",
       "      <td>-0.229939</td>\n",
       "    </tr>\n",
       "    <tr>\n",
       "      <th>4</th>\n",
       "      <td>-0.155617</td>\n",
       "      <td>0.753170</td>\n",
       "      <td>1.022418</td>\n",
       "      <td>-1.007304</td>\n",
       "      <td>-0.712198</td>\n",
       "      <td>-0.978954</td>\n",
       "      <td>1.014992</td>\n",
       "      <td>-0.196428</td>\n",
       "      <td>-0.004509</td>\n",
       "      <td>0.296357</td>\n",
       "      <td>...</td>\n",
       "      <td>-0.031637</td>\n",
       "      <td>-0.776575</td>\n",
       "      <td>-0.281986</td>\n",
       "      <td>-0.138329</td>\n",
       "      <td>-0.027898</td>\n",
       "      <td>-0.014908</td>\n",
       "      <td>2.751470</td>\n",
       "      <td>-0.52882</td>\n",
       "      <td>-0.332903</td>\n",
       "      <td>-0.229939</td>\n",
       "    </tr>\n",
       "  </tbody>\n",
       "</table>\n",
       "<p>5 rows × 108 columns</p>\n",
       "</div>"
      ],
      "text/plain": [
       "   position       age       sex   partner  num_child  education  \\\n",
       "0  1.499887  0.566331  1.022418  0.992638   2.844446  -0.080373   \n",
       "1 -0.155617 -0.181027 -0.977965 -1.007304  -0.712198   2.615369   \n",
       "2 -0.983369 -1.208643  1.022418  0.992638   0.710459  -0.978954   \n",
       "3 -0.983369 -0.461286  1.022418 -1.007304  -0.712198  -0.978954   \n",
       "4 -0.155617  0.753170  1.022418 -1.007304  -0.712198  -0.978954   \n",
       "\n",
       "   service_length  study_time   commute  overtime  ...  \\\n",
       "0        0.641100   -0.804253  0.826414  1.103082  ...   \n",
       "1       -1.134887   -1.108165 -0.004509  1.968836  ...   \n",
       "2       -0.947941   -0.500341 -0.835431 -1.238389  ...   \n",
       "3       -0.200157   -0.196428 -0.558457 -0.116844  ...   \n",
       "4        1.014992   -0.196428 -0.004509  0.296357  ...   \n",
       "\n",
       "   agelayer_and_position_0_2  agelayer_and_position_1_0  \\\n",
       "0                  -0.031637                  -0.776575   \n",
       "1                  -0.031637                  -0.776575   \n",
       "2                  -0.031637                  -0.776575   \n",
       "3                  -0.031637                   1.287563   \n",
       "4                  -0.031637                  -0.776575   \n",
       "\n",
       "   agelayer_and_position_1_1  agelayer_and_position_1_2  \\\n",
       "0                  -0.281986                  -0.138329   \n",
       "1                  -0.281986                  -0.138329   \n",
       "2                  -0.281986                  -0.138329   \n",
       "3                  -0.281986                  -0.138329   \n",
       "4                  -0.281986                  -0.138329   \n",
       "\n",
       "   agelayer_and_position_1_3  agelayer_and_position_2_0  \\\n",
       "0                  -0.027898                  -0.014908   \n",
       "1                  -0.027898                  -0.014908   \n",
       "2                  -0.027898                  -0.014908   \n",
       "3                  -0.027898                  -0.014908   \n",
       "4                  -0.027898                  -0.014908   \n",
       "\n",
       "   agelayer_and_position_2_1  agelayer_and_position_2_2  \\\n",
       "0                  -0.363402                   -0.52882   \n",
       "1                   2.751470                   -0.52882   \n",
       "2                  -0.363402                   -0.52882   \n",
       "3                  -0.363402                   -0.52882   \n",
       "4                   2.751470                   -0.52882   \n",
       "\n",
       "   agelayer_and_position_2_3  agelayer_and_position_2_4  \n",
       "0                   3.003543                  -0.229939  \n",
       "1                  -0.332903                  -0.229939  \n",
       "2                  -0.332903                  -0.229939  \n",
       "3                  -0.332903                  -0.229939  \n",
       "4                  -0.332903                  -0.229939  \n",
       "\n",
       "[5 rows x 108 columns]"
      ]
     },
     "execution_count": 64,
     "metadata": {},
     "output_type": "execute_result"
    }
   ],
   "source": [
    "train_norm.drop(columns='Unnamed: 0', inplace=True)\n",
    "test_norm.drop(columns='Unnamed: 0', inplace=True)\n",
    "train_norm.head()\n",
    "test_norm.head()"
   ]
  },
  {
   "cell_type": "code",
   "execution_count": 65,
   "metadata": {},
   "outputs": [],
   "source": [
    "for col in train_norm.columns:\n",
    "    if train_norm[col].dtypes == 'int64':\n",
    "        print(train_norm[col])"
   ]
  },
  {
   "cell_type": "code",
   "execution_count": 66,
   "metadata": {},
   "outputs": [],
   "source": [
    "target_col = 'salary'\n",
    "target = train[target_col]\n",
    "train.drop(columns=[target_col], inplace=True)"
   ]
  },
  {
   "cell_type": "code",
   "execution_count": 67,
   "metadata": {},
   "outputs": [],
   "source": [
    "drop_cols = ['id']\n",
    "train.drop(columns=drop_cols, inplace=True)\n",
    "test.drop(columns=drop_cols, inplace=True)"
   ]
  },
  {
   "cell_type": "code",
   "execution_count": 68,
   "metadata": {},
   "outputs": [],
   "source": [
    "target = target.to_numpy()\n"
   ]
  },
  {
   "cell_type": "code",
   "execution_count": 69,
   "metadata": {},
   "outputs": [
    {
     "data": {
      "text/plain": [
       "array([[428.07488729],\n",
       "       [317.93051704],\n",
       "       [357.35031585],\n",
       "       ...,\n",
       "       [364.38673606],\n",
       "       [235.68644917],\n",
       "       [265.06183816]])"
      ]
     },
     "execution_count": 69,
     "metadata": {},
     "output_type": "execute_result"
    }
   ],
   "source": [
    "target = np.reshape(target, (-1, 1))\n",
    "target"
   ]
  },
  {
   "cell_type": "code",
   "execution_count": 70,
   "metadata": {},
   "outputs": [
    {
     "data": {
      "text/plain": [
       "(21000, 1)"
      ]
     },
     "execution_count": 70,
     "metadata": {},
     "output_type": "execute_result"
    }
   ],
   "source": [
    "target.shape"
   ]
  },
  {
   "cell_type": "code",
   "execution_count": 71,
   "metadata": {},
   "outputs": [],
   "source": [
    "from sklearn.preprocessing import StandardScaler\n",
    "\n",
    "ss = StandardScaler()\n",
    "target = ss.fit_transform(target)\n",
    "# target = np.log1p(target)"
   ]
  },
  {
   "cell_type": "code",
   "execution_count": 72,
   "metadata": {},
   "outputs": [],
   "source": [
    "x_train = train_norm.values\n",
    "# y_train = target.values\n",
    "test_set = test_norm.values"
   ]
  },
  {
   "cell_type": "code",
   "execution_count": 73,
   "metadata": {},
   "outputs": [],
   "source": [
    "from sklearn.model_selection import train_test_split\n",
    "\n",
    "X_train, X_test, y_train, y_test = train_test_split(x_train, target, test_size=0.2, random_state=42)\n"
   ]
  },
  {
   "cell_type": "code",
   "execution_count": 74,
   "metadata": {},
   "outputs": [
    {
     "data": {
      "text/plain": [
       "numpy.ndarray"
      ]
     },
     "execution_count": 74,
     "metadata": {},
     "output_type": "execute_result"
    },
    {
     "data": {
      "text/plain": [
       "array([[ 0.63130104,  1.29418681, -0.99664847, ...,  1.9061854 ,\n",
       "        -0.34207558, -0.24399383],\n",
       "       [ 0.63130104,  0.64091173, -0.99664847, ...,  1.9061854 ,\n",
       "        -0.34207558, -0.24399383],\n",
       "       [-0.18523763,  0.26761169, -0.99664847, ..., -0.52458296,\n",
       "        -0.34207558, -0.24399383],\n",
       "       ...,\n",
       "       [ 0.63130104, -0.29233837,  1.00331502, ..., -0.52458296,\n",
       "        -0.34207558, -0.24399383],\n",
       "       [-1.0017763 , -1.13226347,  1.00331502, ..., -0.52458296,\n",
       "        -0.34207558, -0.24399383],\n",
       "       [ 0.63130104,  1.01421178,  1.00331502, ...,  1.9061854 ,\n",
       "        -0.34207558, -0.24399383]])"
      ]
     },
     "execution_count": 74,
     "metadata": {},
     "output_type": "execute_result"
    }
   ],
   "source": [
    "type(X_train)\n",
    "X_train"
   ]
  },
  {
   "cell_type": "code",
   "execution_count": 75,
   "metadata": {},
   "outputs": [
    {
     "data": {
      "text/plain": [
       "(16800, 108)"
      ]
     },
     "execution_count": 75,
     "metadata": {},
     "output_type": "execute_result"
    },
    {
     "data": {
      "text/plain": [
       "(4200, 108)"
      ]
     },
     "execution_count": 75,
     "metadata": {},
     "output_type": "execute_result"
    },
    {
     "data": {
      "text/plain": [
       "(16800, 1)"
      ]
     },
     "execution_count": 75,
     "metadata": {},
     "output_type": "execute_result"
    },
    {
     "data": {
      "text/plain": [
       "(4200, 1)"
      ]
     },
     "execution_count": 75,
     "metadata": {},
     "output_type": "execute_result"
    }
   ],
   "source": [
    "X_train.shape\n",
    "X_test.shape\n",
    "y_train.shape\n",
    "y_test.shape\n",
    "\n"
   ]
  },
  {
   "cell_type": "code",
   "execution_count": 91,
   "metadata": {},
   "outputs": [],
   "source": [
    "from keras.layers import Dense,Dropout\n",
    "from keras.models import Sequential\n",
    "from keras.callbacks import EarlyStopping\n",
    "\n",
    "def build_model():\n",
    "    #モデルの初期化\n",
    "    model = Sequential()\n",
    "    #層の構築\n",
    "    model.add(Dense(32, activation='relu'))\n",
    "    #     model.add(Dropout(0.2))\n",
    "    model.add(Dense(32, activation='relu'))\n",
    "#     model.add(Dense(108, activation='relu'))\n",
    "    #     model.add(Dense(8, activation='relu'))\n",
    "    model.add(Dense(1, activation='sigmoid'))\n",
    "    #     model.add(Dense(64, activation='relu', input_shape=[len(train_dataset.keys())]))\n",
    "    #     model.add(Dense(64, activation='relu'))\n",
    "    #     model.add(Dense(1))\n",
    "    #モデルの構築\n",
    "\n",
    "    #     optimizer = tf.keras.optimizers.RMSprop(0.001)\n",
    "\n",
    "    model.compile(loss='mse',\n",
    "                optimizer='Adam',\n",
    "                metrics=['mae', 'mse'])\n",
    "    # model.compile(optimizer = 'adam', loss='binary_crossentropy', metrics='acc')\n",
    "    # model.compile(optimizer='rmsprop',\n",
    "    #               loss='mse')\n",
    "\n",
    "    return model"
   ]
  },
  {
   "cell_type": "code",
   "execution_count": 92,
   "metadata": {},
   "outputs": [
    {
     "ename": "ValueError",
     "evalue": "This model has not yet been built. Build the model first by calling `build()` or calling `fit()` with some data, or specify an `input_shape` argument in the first layer(s) for automatic build.",
     "output_type": "error",
     "traceback": [
      "\u001b[1;31m---------------------------------------------------------------------------\u001b[0m",
      "\u001b[1;31mValueError\u001b[0m                                Traceback (most recent call last)",
      "\u001b[1;32m<ipython-input-92-379194252a37>\u001b[0m in \u001b[0;36m<module>\u001b[1;34m\u001b[0m\n\u001b[0;32m      1\u001b[0m \u001b[0mmodel\u001b[0m \u001b[1;33m=\u001b[0m \u001b[0mbuild_model\u001b[0m\u001b[1;33m(\u001b[0m\u001b[1;33m)\u001b[0m\u001b[1;33m\u001b[0m\u001b[1;33m\u001b[0m\u001b[0m\n\u001b[0;32m      2\u001b[0m \u001b[1;31m#モデルの構造を表示\u001b[0m\u001b[1;33m\u001b[0m\u001b[1;33m\u001b[0m\u001b[1;33m\u001b[0m\u001b[0m\n\u001b[1;32m----> 3\u001b[1;33m \u001b[0mmodel\u001b[0m\u001b[1;33m.\u001b[0m\u001b[0msummary\u001b[0m\u001b[1;33m(\u001b[0m\u001b[1;33m)\u001b[0m\u001b[1;33m\u001b[0m\u001b[1;33m\u001b[0m\u001b[0m\n\u001b[0m",
      "\u001b[1;32m~\\anaconda3\\lib\\site-packages\\tensorflow\\python\\keras\\engine\\training.py\u001b[0m in \u001b[0;36msummary\u001b[1;34m(self, line_length, positions, print_fn)\u001b[0m\n\u001b[0;32m   2374\u001b[0m     \"\"\"\n\u001b[0;32m   2375\u001b[0m     \u001b[1;32mif\u001b[0m \u001b[1;32mnot\u001b[0m \u001b[0mself\u001b[0m\u001b[1;33m.\u001b[0m\u001b[0mbuilt\u001b[0m\u001b[1;33m:\u001b[0m\u001b[1;33m\u001b[0m\u001b[1;33m\u001b[0m\u001b[0m\n\u001b[1;32m-> 2376\u001b[1;33m       raise ValueError('This model has not yet been built. '\n\u001b[0m\u001b[0;32m   2377\u001b[0m                        \u001b[1;34m'Build the model first by calling `build()` or calling '\u001b[0m\u001b[1;33m\u001b[0m\u001b[1;33m\u001b[0m\u001b[0m\n\u001b[0;32m   2378\u001b[0m                        \u001b[1;34m'`fit()` with some data, or specify '\u001b[0m\u001b[1;33m\u001b[0m\u001b[1;33m\u001b[0m\u001b[0m\n",
      "\u001b[1;31mValueError\u001b[0m: This model has not yet been built. Build the model first by calling `build()` or calling `fit()` with some data, or specify an `input_shape` argument in the first layer(s) for automatic build."
     ]
    }
   ],
   "source": [
    "model = build_model()\n",
    "#モデルの構造を表示\n",
    "model.summary()"
   ]
  },
  {
   "cell_type": "code",
   "execution_count": 93,
   "metadata": {},
   "outputs": [
    {
     "data": {
      "text/plain": [
       "array([[0.18048862],\n",
       "       [0.4414909 ],\n",
       "       [0.24170506],\n",
       "       [0.59238034],\n",
       "       [0.43069747],\n",
       "       [0.28604895],\n",
       "       [0.2502364 ],\n",
       "       [0.6037677 ],\n",
       "       [0.47691068],\n",
       "       [0.56031203]], dtype=float32)"
      ]
     },
     "execution_count": 93,
     "metadata": {},
     "output_type": "execute_result"
    }
   ],
   "source": [
    "ex_batch = x_train[:10]\n",
    "ex_result = model.predict(ex_batch)\n",
    "ex_result"
   ]
  },
  {
   "cell_type": "code",
   "execution_count": 94,
   "metadata": {},
   "outputs": [],
   "source": [
    "class PrintDot(keras.callbacks.Callback):\n",
    "    def on_epoch_end(self, epoch, logs):\n",
    "        if epoch % 10 == 0:\n",
    "            print(epoch,\"/1000\")\n",
    "            print(logs)"
   ]
  },
  {
   "cell_type": "code",
   "execution_count": 98,
   "metadata": {},
   "outputs": [
    {
     "name": "stdout",
     "output_type": "stream",
     "text": [
      "0 /1000\n",
      "{'loss': 0.5278143286705017, 'mae': 0.5706011652946472, 'mse': 0.5278143286705017, 'val_loss': 0.5524806380271912, 'val_mae': 0.6016878485679626, 'val_mse': 0.5524806380271912}\n",
      "10 /1000\n",
      "{'loss': 0.5209048986434937, 'mae': 0.5593225955963135, 'mse': 0.5209048986434937, 'val_loss': 0.548155665397644, 'val_mae': 0.599312424659729, 'val_mse': 0.548155665397644}\n",
      "20 /1000\n",
      "{'loss': 0.5204826593399048, 'mae': 0.5583460927009583, 'mse': 0.5204826593399048, 'val_loss': 0.5482189655303955, 'val_mae': 0.5990381240844727, 'val_mse': 0.5482189655303955}\n",
      "30 /1000\n",
      "{'loss': 0.520514726638794, 'mae': 0.5578665733337402, 'mse': 0.520514726638794, 'val_loss': 0.5476809144020081, 'val_mae': 0.5988441109657288, 'val_mse': 0.5476809144020081}\n",
      "40 /1000\n",
      "{'loss': 0.5201076865196228, 'mae': 0.5571907758712769, 'mse': 0.5201076865196228, 'val_loss': 0.5459234118461609, 'val_mae': 0.5975701212882996, 'val_mse': 0.5459234118461609}\n",
      "50 /1000\n",
      "{'loss': 0.5198169350624084, 'mae': 0.5562300086021423, 'mse': 0.5198169350624084, 'val_loss': 0.5480538010597229, 'val_mae': 0.59907466173172, 'val_mse': 0.5480538010597229}\n",
      "60 /1000\n",
      "{'loss': 0.5199742913246155, 'mae': 0.5567392110824585, 'mse': 0.5199742913246155, 'val_loss': 0.5476155877113342, 'val_mae': 0.5983561873435974, 'val_mse': 0.5476155877113342}\n",
      "70 /1000\n",
      "{'loss': 0.5200427770614624, 'mae': 0.556828498840332, 'mse': 0.5200427770614624, 'val_loss': 0.5473450422286987, 'val_mae': 0.5988287925720215, 'val_mse': 0.5473450422286987}\n",
      "80 /1000\n",
      "{'loss': 0.5195315480232239, 'mae': 0.5552928447723389, 'mse': 0.5195315480232239, 'val_loss': 0.545543909072876, 'val_mae': 0.5973635911941528, 'val_mse': 0.545543909072876}\n",
      "90 /1000\n",
      "{'loss': 0.5196740627288818, 'mae': 0.5556377172470093, 'mse': 0.5196740627288818, 'val_loss': 0.5462907552719116, 'val_mae': 0.5976383686065674, 'val_mse': 0.5462907552719116}\n",
      "100 /1000\n",
      "{'loss': 0.5194498896598816, 'mae': 0.5553009510040283, 'mse': 0.5194498896598816, 'val_loss': 0.5475468635559082, 'val_mae': 0.5979821681976318, 'val_mse': 0.5475468635559082}\n",
      "110 /1000\n",
      "{'loss': 0.5192849040031433, 'mae': 0.5547112226486206, 'mse': 0.5192849040031433, 'val_loss': 0.5461278557777405, 'val_mae': 0.5970593094825745, 'val_mse': 0.5461278557777405}\n",
      "120 /1000\n",
      "{'loss': 0.5196784138679504, 'mae': 0.5552784204483032, 'mse': 0.5196784138679504, 'val_loss': 0.5465288162231445, 'val_mae': 0.5972431898117065, 'val_mse': 0.5465288162231445}\n",
      "130 /1000\n",
      "{'loss': 0.5190203189849854, 'mae': 0.553686797618866, 'mse': 0.5190203189849854, 'val_loss': 0.5472157001495361, 'val_mae': 0.5979711413383484, 'val_mse': 0.5472157001495361}\n",
      "140 /1000\n",
      "{'loss': 0.5188837647438049, 'mae': 0.5536249279975891, 'mse': 0.5188837647438049, 'val_loss': 0.5465889573097229, 'val_mae': 0.5975304841995239, 'val_mse': 0.5465889573097229}\n",
      "150 /1000\n",
      "{'loss': 0.518928587436676, 'mae': 0.5536736845970154, 'mse': 0.518928587436676, 'val_loss': 0.5454283356666565, 'val_mae': 0.597350001335144, 'val_mse': 0.5454283356666565}\n",
      "160 /1000\n",
      "{'loss': 0.5192537903785706, 'mae': 0.5545570850372314, 'mse': 0.5192537903785706, 'val_loss': 0.5446287989616394, 'val_mae': 0.5958420634269714, 'val_mse': 0.5446287989616394}\n",
      "170 /1000\n",
      "{'loss': 0.5186406970024109, 'mae': 0.5526008009910583, 'mse': 0.5186406970024109, 'val_loss': 0.546356737613678, 'val_mae': 0.5973688364028931, 'val_mse': 0.546356737613678}\n",
      "180 /1000\n",
      "{'loss': 0.5186535716056824, 'mae': 0.5526991486549377, 'mse': 0.5186535716056824, 'val_loss': 0.5461320281028748, 'val_mae': 0.5971245169639587, 'val_mse': 0.5461320281028748}\n",
      "190 /1000\n",
      "{'loss': 0.518691897392273, 'mae': 0.5529718399047852, 'mse': 0.518691897392273, 'val_loss': 0.5450204610824585, 'val_mae': 0.5963019728660583, 'val_mse': 0.5450204610824585}\n",
      "200 /1000\n",
      "{'loss': 0.5186594724655151, 'mae': 0.5526720285415649, 'mse': 0.5186594724655151, 'val_loss': 0.547351062297821, 'val_mae': 0.5979090929031372, 'val_mse': 0.547351062297821}\n",
      "210 /1000\n",
      "{'loss': 0.5186697840690613, 'mae': 0.5527883768081665, 'mse': 0.5186697840690613, 'val_loss': 0.5459633469581604, 'val_mae': 0.597521960735321, 'val_mse': 0.5459633469581604}\n",
      "220 /1000\n",
      "{'loss': 0.5185376405715942, 'mae': 0.5523546934127808, 'mse': 0.5185376405715942, 'val_loss': 0.546362042427063, 'val_mae': 0.5972706079483032, 'val_mse': 0.546362042427063}\n",
      "230 /1000\n",
      "{'loss': 0.5183782577514648, 'mae': 0.5520246028900146, 'mse': 0.5183782577514648, 'val_loss': 0.5453110933303833, 'val_mae': 0.5966393351554871, 'val_mse': 0.5453110933303833}\n",
      "240 /1000\n",
      "{'loss': 0.5183152556419373, 'mae': 0.5516341328620911, 'mse': 0.5183152556419373, 'val_loss': 0.5460677146911621, 'val_mae': 0.5969368815422058, 'val_mse': 0.5460677146911621}\n",
      "250 /1000\n",
      "{'loss': 0.5182657241821289, 'mae': 0.5514081120491028, 'mse': 0.5182657241821289, 'val_loss': 0.5452523827552795, 'val_mae': 0.5964711308479309, 'val_mse': 0.5452523827552795}\n",
      "260 /1000\n",
      "{'loss': 0.5182539820671082, 'mae': 0.5515525937080383, 'mse': 0.5182539820671082, 'val_loss': 0.5464138388633728, 'val_mae': 0.5976248979568481, 'val_mse': 0.5464138388633728}\n",
      "270 /1000\n",
      "{'loss': 0.5181865096092224, 'mae': 0.5511526465415955, 'mse': 0.5181865096092224, 'val_loss': 0.5462278127670288, 'val_mae': 0.5972132086753845, 'val_mse': 0.5462278127670288}\n",
      "280 /1000\n",
      "{'loss': 0.5179978013038635, 'mae': 0.5502938628196716, 'mse': 0.5179978013038635, 'val_loss': 0.5459112524986267, 'val_mae': 0.597213625907898, 'val_mse': 0.5459112524986267}\n",
      "290 /1000\n",
      "{'loss': 0.5180437564849854, 'mae': 0.5505873560905457, 'mse': 0.5180437564849854, 'val_loss': 0.5458317399024963, 'val_mae': 0.597119927406311, 'val_mse': 0.5458317399024963}\n",
      "300 /1000\n",
      "{'loss': 0.5180575847625732, 'mae': 0.5508572459220886, 'mse': 0.5180575847625732, 'val_loss': 0.5462962985038757, 'val_mae': 0.5976525545120239, 'val_mse': 0.5462962985038757}\n",
      "310 /1000\n",
      "{'loss': 0.5179670453071594, 'mae': 0.5503202080726624, 'mse': 0.5179670453071594, 'val_loss': 0.5464639067649841, 'val_mae': 0.597753643989563, 'val_mse': 0.5464639067649841}\n",
      "320 /1000\n",
      "{'loss': 0.5180761218070984, 'mae': 0.5507020354270935, 'mse': 0.5180761218070984, 'val_loss': 0.5463398694992065, 'val_mae': 0.5976054072380066, 'val_mse': 0.5463398694992065}\n",
      "330 /1000\n",
      "{'loss': 0.5179072618484497, 'mae': 0.5501683354377747, 'mse': 0.5179072618484497, 'val_loss': 0.546748161315918, 'val_mae': 0.5980604290962219, 'val_mse': 0.546748161315918}\n",
      "340 /1000\n",
      "{'loss': 0.517848551273346, 'mae': 0.5500025749206543, 'mse': 0.517848551273346, 'val_loss': 0.5465726852416992, 'val_mae': 0.597506046295166, 'val_mse': 0.5465726852416992}\n",
      "350 /1000\n",
      "{'loss': 0.5179429054260254, 'mae': 0.5504654049873352, 'mse': 0.5179429054260254, 'val_loss': 0.547636866569519, 'val_mae': 0.5988619327545166, 'val_mse': 0.547636866569519}\n",
      "360 /1000\n",
      "{'loss': 0.5178903341293335, 'mae': 0.5500836372375488, 'mse': 0.5178903341293335, 'val_loss': 0.5462117195129395, 'val_mae': 0.5977036952972412, 'val_mse': 0.5462117195129395}\n",
      "370 /1000\n",
      "{'loss': 0.5177718997001648, 'mae': 0.549592912197113, 'mse': 0.5177718997001648, 'val_loss': 0.5462641716003418, 'val_mae': 0.5976690649986267, 'val_mse': 0.5462641716003418}\n",
      "380 /1000\n",
      "{'loss': 0.5178240537643433, 'mae': 0.5497516393661499, 'mse': 0.5178240537643433, 'val_loss': 0.5460059642791748, 'val_mae': 0.5977660417556763, 'val_mse': 0.5460059642791748}\n",
      "Epoch 00385: early stopping\n"
     ]
    }
   ],
   "source": [
    "EPOCHS = 1000\n",
    "log = model.fit(X_train, y_train, epochs=EPOCHS, batch_size=128,verbose=0, validation_data=(X_test,y_test),\n",
    "                callbacks=[PrintDot(), EarlyStopping(monitor='val_loss',min_delta=0,patience=150,verbose=1)],\n",
    "                validation_split=0.3)"
   ]
  },
  {
   "cell_type": "code",
   "execution_count": 99,
   "metadata": {},
   "outputs": [
    {
     "name": "stdout",
     "output_type": "stream",
     "text": [
      "Model: \"sequential_5\"\n",
      "_________________________________________________________________\n",
      "Layer (type)                 Output Shape              Param #   \n",
      "=================================================================\n",
      "dense_19 (Dense)             (None, 32)                3488      \n",
      "_________________________________________________________________\n",
      "dense_20 (Dense)             (None, 32)                1056      \n",
      "_________________________________________________________________\n",
      "dense_21 (Dense)             (None, 1)                 33        \n",
      "=================================================================\n",
      "Total params: 4,577\n",
      "Trainable params: 4,577\n",
      "Non-trainable params: 0\n",
      "_________________________________________________________________\n"
     ]
    }
   ],
   "source": [
    "model.summary()"
   ]
  },
  {
   "cell_type": "code",
   "execution_count": 100,
   "metadata": {},
   "outputs": [
    {
     "data": {
      "text/plain": [
       "<AxesSubplot:>"
      ]
     },
     "execution_count": 100,
     "metadata": {},
     "output_type": "execute_result"
    },
    {
     "data": {
      "image/png": "[encoded data removed]",
      "text/plain": [
       "<Figure size 864x576 with 1 Axes>"
      ]
     },
     "metadata": {
      "needs_background": "light"
     },
     "output_type": "display_data"
    }
   ],
   "source": [
    "loss_df = pd.DataFrame(model.history.history)\n",
    "loss_df.plot(figsize=(12,8))"
   ]
  },
  {
   "cell_type": "code",
   "execution_count": 101,
   "metadata": {},
   "outputs": [
    {
     "name": "stdout",
     "output_type": "stream",
     "text": [
      "MAE: 0.5867563020110611\n",
      "MSE: 0.5374771198150506\n",
      "RMSE: 0.7331283106080754\n",
      "VarScore: 0.5213600198067576\n"
     ]
    }
   ],
   "source": [
    "from sklearn import metrics\n",
    "y_pred = model.predict(X_test)\n",
    "\n",
    "print('MAE:', metrics.mean_absolute_error(y_test, y_pred))\n",
    "print('MSE:', metrics.mean_squared_error(y_test, y_pred))\n",
    "print('RMSE:', np.sqrt(metrics.mean_squared_error(y_test, y_pred)))\n",
    "\n",
    "print('VarScore:', metrics.explained_variance_score(y_test, y_pred))"
   ]
  },
  {
   "cell_type": "code",
   "execution_count": 56,
   "metadata": {},
   "outputs": [],
   "source": [
    "submit = model.predict(test_norm)"
   ]
  },
  {
   "cell_type": "code",
   "execution_count": 59,
   "metadata": {},
   "outputs": [
    {
     "ename": "KeyError",
     "evalue": "'id'",
     "output_type": "error",
     "traceback": [
      "\u001b[1;31m---------------------------------------------------------------------------\u001b[0m",
      "\u001b[1;31mKeyError\u001b[0m                                  Traceback (most recent call last)",
      "\u001b[1;32m~\\anaconda3\\lib\\site-packages\\pandas\\core\\indexes\\base.py\u001b[0m in \u001b[0;36mget_loc\u001b[1;34m(self, key, method, tolerance)\u001b[0m\n\u001b[0;32m   2894\u001b[0m             \u001b[1;32mtry\u001b[0m\u001b[1;33m:\u001b[0m\u001b[1;33m\u001b[0m\u001b[1;33m\u001b[0m\u001b[0m\n\u001b[1;32m-> 2895\u001b[1;33m                 \u001b[1;32mreturn\u001b[0m \u001b[0mself\u001b[0m\u001b[1;33m.\u001b[0m\u001b[0m_engine\u001b[0m\u001b[1;33m.\u001b[0m\u001b[0mget_loc\u001b[0m\u001b[1;33m(\u001b[0m\u001b[0mcasted_key\u001b[0m\u001b[1;33m)\u001b[0m\u001b[1;33m\u001b[0m\u001b[1;33m\u001b[0m\u001b[0m\n\u001b[0m\u001b[0;32m   2896\u001b[0m             \u001b[1;32mexcept\u001b[0m \u001b[0mKeyError\u001b[0m \u001b[1;32mas\u001b[0m \u001b[0merr\u001b[0m\u001b[1;33m:\u001b[0m\u001b[1;33m\u001b[0m\u001b[1;33m\u001b[0m\u001b[0m\n",
      "\u001b[1;32mpandas\\_libs\\index.pyx\u001b[0m in \u001b[0;36mpandas._libs.index.IndexEngine.get_loc\u001b[1;34m()\u001b[0m\n",
      "\u001b[1;32mpandas\\_libs\\index.pyx\u001b[0m in \u001b[0;36mpandas._libs.index.IndexEngine.get_loc\u001b[1;34m()\u001b[0m\n",
      "\u001b[1;32mpandas\\_libs\\hashtable_class_helper.pxi\u001b[0m in \u001b[0;36mpandas._libs.hashtable.PyObjectHashTable.get_item\u001b[1;34m()\u001b[0m\n",
      "\u001b[1;32mpandas\\_libs\\hashtable_class_helper.pxi\u001b[0m in \u001b[0;36mpandas._libs.hashtable.PyObjectHashTable.get_item\u001b[1;34m()\u001b[0m\n",
      "\u001b[1;31mKeyError\u001b[0m: 'id'",
      "\nThe above exception was the direct cause of the following exception:\n",
      "\u001b[1;31mKeyError\u001b[0m                                  Traceback (most recent call last)",
      "\u001b[1;32m<ipython-input-59-d1b3887edfdd>\u001b[0m in \u001b[0;36m<module>\u001b[1;34m\u001b[0m\n\u001b[1;32m----> 1\u001b[1;33m \u001b[0mid_data\u001b[0m \u001b[1;33m=\u001b[0m \u001b[0mpd\u001b[0m\u001b[1;33m.\u001b[0m\u001b[0mDataFrame\u001b[0m\u001b[1;33m(\u001b[0m\u001b[0mtest\u001b[0m\u001b[1;33m[\u001b[0m\u001b[1;34m'id'\u001b[0m\u001b[1;33m]\u001b[0m\u001b[1;33m)\u001b[0m\u001b[1;33m\u001b[0m\u001b[1;33m\u001b[0m\u001b[0m\n\u001b[0m\u001b[0;32m      2\u001b[0m \u001b[1;31m# submitt_data = pd.concat([id_data,submitt_data], axis=1)\u001b[0m\u001b[1;33m\u001b[0m\u001b[1;33m\u001b[0m\u001b[1;33m\u001b[0m\u001b[0m\n\u001b[0;32m      3\u001b[0m \u001b[1;31m# submitt_data\u001b[0m\u001b[1;33m\u001b[0m\u001b[1;33m\u001b[0m\u001b[1;33m\u001b[0m\u001b[0m\n",
      "\u001b[1;32m~\\anaconda3\\lib\\site-packages\\pandas\\core\\frame.py\u001b[0m in \u001b[0;36m__getitem__\u001b[1;34m(self, key)\u001b[0m\n\u001b[0;32m   2900\u001b[0m             \u001b[1;32mif\u001b[0m \u001b[0mself\u001b[0m\u001b[1;33m.\u001b[0m\u001b[0mcolumns\u001b[0m\u001b[1;33m.\u001b[0m\u001b[0mnlevels\u001b[0m \u001b[1;33m>\u001b[0m \u001b[1;36m1\u001b[0m\u001b[1;33m:\u001b[0m\u001b[1;33m\u001b[0m\u001b[1;33m\u001b[0m\u001b[0m\n\u001b[0;32m   2901\u001b[0m                 \u001b[1;32mreturn\u001b[0m \u001b[0mself\u001b[0m\u001b[1;33m.\u001b[0m\u001b[0m_getitem_multilevel\u001b[0m\u001b[1;33m(\u001b[0m\u001b[0mkey\u001b[0m\u001b[1;33m)\u001b[0m\u001b[1;33m\u001b[0m\u001b[1;33m\u001b[0m\u001b[0m\n\u001b[1;32m-> 2902\u001b[1;33m             \u001b[0mindexer\u001b[0m \u001b[1;33m=\u001b[0m \u001b[0mself\u001b[0m\u001b[1;33m.\u001b[0m\u001b[0mcolumns\u001b[0m\u001b[1;33m.\u001b[0m\u001b[0mget_loc\u001b[0m\u001b[1;33m(\u001b[0m\u001b[0mkey\u001b[0m\u001b[1;33m)\u001b[0m\u001b[1;33m\u001b[0m\u001b[1;33m\u001b[0m\u001b[0m\n\u001b[0m\u001b[0;32m   2903\u001b[0m             \u001b[1;32mif\u001b[0m \u001b[0mis_integer\u001b[0m\u001b[1;33m(\u001b[0m\u001b[0mindexer\u001b[0m\u001b[1;33m)\u001b[0m\u001b[1;33m:\u001b[0m\u001b[1;33m\u001b[0m\u001b[1;33m\u001b[0m\u001b[0m\n\u001b[0;32m   2904\u001b[0m                 \u001b[0mindexer\u001b[0m \u001b[1;33m=\u001b[0m \u001b[1;33m[\u001b[0m\u001b[0mindexer\u001b[0m\u001b[1;33m]\u001b[0m\u001b[1;33m\u001b[0m\u001b[1;33m\u001b[0m\u001b[0m\n",
      "\u001b[1;32m~\\anaconda3\\lib\\site-packages\\pandas\\core\\indexes\\base.py\u001b[0m in \u001b[0;36mget_loc\u001b[1;34m(self, key, method, tolerance)\u001b[0m\n\u001b[0;32m   2895\u001b[0m                 \u001b[1;32mreturn\u001b[0m \u001b[0mself\u001b[0m\u001b[1;33m.\u001b[0m\u001b[0m_engine\u001b[0m\u001b[1;33m.\u001b[0m\u001b[0mget_loc\u001b[0m\u001b[1;33m(\u001b[0m\u001b[0mcasted_key\u001b[0m\u001b[1;33m)\u001b[0m\u001b[1;33m\u001b[0m\u001b[1;33m\u001b[0m\u001b[0m\n\u001b[0;32m   2896\u001b[0m             \u001b[1;32mexcept\u001b[0m \u001b[0mKeyError\u001b[0m \u001b[1;32mas\u001b[0m \u001b[0merr\u001b[0m\u001b[1;33m:\u001b[0m\u001b[1;33m\u001b[0m\u001b[1;33m\u001b[0m\u001b[0m\n\u001b[1;32m-> 2897\u001b[1;33m                 \u001b[1;32mraise\u001b[0m \u001b[0mKeyError\u001b[0m\u001b[1;33m(\u001b[0m\u001b[0mkey\u001b[0m\u001b[1;33m)\u001b[0m \u001b[1;32mfrom\u001b[0m \u001b[0merr\u001b[0m\u001b[1;33m\u001b[0m\u001b[1;33m\u001b[0m\u001b[0m\n\u001b[0m\u001b[0;32m   2898\u001b[0m \u001b[1;33m\u001b[0m\u001b[0m\n\u001b[0;32m   2899\u001b[0m         \u001b[1;32mif\u001b[0m \u001b[0mtolerance\u001b[0m \u001b[1;32mis\u001b[0m \u001b[1;32mnot\u001b[0m \u001b[1;32mNone\u001b[0m\u001b[1;33m:\u001b[0m\u001b[1;33m\u001b[0m\u001b[1;33m\u001b[0m\u001b[0m\n",
      "\u001b[1;31mKeyError\u001b[0m: 'id'"
     ]
    }
   ],
   "source": [
    "id_data = pd.DataFrame(test['id'])\n",
    "# submitt_data = pd.concat([id_data,submitt_data], axis=1)\n",
    "# submitt_data"
   ]
  },
  {
   "cell_type": "code",
   "execution_count": 19,
   "metadata": {},
   "outputs": [
    {
     "data": {
      "text/plain": [
       "(21000, 11)"
      ]
     },
     "execution_count": 19,
     "metadata": {},
     "output_type": "execute_result"
    },
    {
     "data": {
      "text/plain": [
       "(9000, 11)"
      ]
     },
     "execution_count": 19,
     "metadata": {},
     "output_type": "execute_result"
    }
   ],
   "source": [
    "train.shape\n",
    "test.shape"
   ]
  },
  {
   "cell_type": "code",
   "execution_count": 28,
   "metadata": {},
   "outputs": [
    {
     "data": {
      "text/html": [
       "<div>\n",
       "<style scoped>\n",
       "    .dataframe tbody tr th:only-of-type {\n",
       "        vertical-align: middle;\n",
       "    }\n",
       "\n",
       "    .dataframe tbody tr th {\n",
       "        vertical-align: top;\n",
       "    }\n",
       "\n",
       "    .dataframe thead th {\n",
       "        text-align: right;\n",
       "    }\n",
       "</style>\n",
       "<table border=\"1\" class=\"dataframe\">\n",
       "  <thead>\n",
       "    <tr style=\"text-align: right;\">\n",
       "      <th></th>\n",
       "      <th>loss</th>\n",
       "      <th>mae</th>\n",
       "      <th>mse</th>\n",
       "      <th>val_loss</th>\n",
       "      <th>val_mae</th>\n",
       "      <th>val_mse</th>\n",
       "    </tr>\n",
       "  </thead>\n",
       "  <tbody>\n",
       "    <tr>\n",
       "      <th>0</th>\n",
       "      <td>157327.171875</td>\n",
       "      <td>358.328979</td>\n",
       "      <td>157327.171875</td>\n",
       "      <td>163483.15625</td>\n",
       "      <td>364.465851</td>\n",
       "      <td>163483.15625</td>\n",
       "    </tr>\n",
       "    <tr>\n",
       "      <th>1</th>\n",
       "      <td>157327.125000</td>\n",
       "      <td>358.329102</td>\n",
       "      <td>157327.125000</td>\n",
       "      <td>163483.15625</td>\n",
       "      <td>364.465851</td>\n",
       "      <td>163483.15625</td>\n",
       "    </tr>\n",
       "    <tr>\n",
       "      <th>2</th>\n",
       "      <td>157327.140625</td>\n",
       "      <td>358.329010</td>\n",
       "      <td>157327.140625</td>\n",
       "      <td>163483.15625</td>\n",
       "      <td>364.465851</td>\n",
       "      <td>163483.15625</td>\n",
       "    </tr>\n",
       "    <tr>\n",
       "      <th>3</th>\n",
       "      <td>157327.203125</td>\n",
       "      <td>358.328857</td>\n",
       "      <td>157327.203125</td>\n",
       "      <td>163483.15625</td>\n",
       "      <td>364.465851</td>\n",
       "      <td>163483.15625</td>\n",
       "    </tr>\n",
       "    <tr>\n",
       "      <th>4</th>\n",
       "      <td>157327.156250</td>\n",
       "      <td>358.329254</td>\n",
       "      <td>157327.156250</td>\n",
       "      <td>163483.15625</td>\n",
       "      <td>364.465851</td>\n",
       "      <td>163483.15625</td>\n",
       "    </tr>\n",
       "    <tr>\n",
       "      <th>...</th>\n",
       "      <td>...</td>\n",
       "      <td>...</td>\n",
       "      <td>...</td>\n",
       "      <td>...</td>\n",
       "      <td>...</td>\n",
       "      <td>...</td>\n",
       "    </tr>\n",
       "    <tr>\n",
       "      <th>96</th>\n",
       "      <td>157327.125000</td>\n",
       "      <td>358.329285</td>\n",
       "      <td>157327.125000</td>\n",
       "      <td>163483.15625</td>\n",
       "      <td>364.465851</td>\n",
       "      <td>163483.15625</td>\n",
       "    </tr>\n",
       "    <tr>\n",
       "      <th>97</th>\n",
       "      <td>157327.093750</td>\n",
       "      <td>358.329041</td>\n",
       "      <td>157327.093750</td>\n",
       "      <td>163483.15625</td>\n",
       "      <td>364.465851</td>\n",
       "      <td>163483.15625</td>\n",
       "    </tr>\n",
       "    <tr>\n",
       "      <th>98</th>\n",
       "      <td>157327.140625</td>\n",
       "      <td>358.329041</td>\n",
       "      <td>157327.140625</td>\n",
       "      <td>163483.15625</td>\n",
       "      <td>364.465851</td>\n",
       "      <td>163483.15625</td>\n",
       "    </tr>\n",
       "    <tr>\n",
       "      <th>99</th>\n",
       "      <td>157327.125000</td>\n",
       "      <td>358.328857</td>\n",
       "      <td>157327.125000</td>\n",
       "      <td>163483.15625</td>\n",
       "      <td>364.465851</td>\n",
       "      <td>163483.15625</td>\n",
       "    </tr>\n",
       "    <tr>\n",
       "      <th>100</th>\n",
       "      <td>157327.015625</td>\n",
       "      <td>358.329010</td>\n",
       "      <td>157327.015625</td>\n",
       "      <td>163483.15625</td>\n",
       "      <td>364.465851</td>\n",
       "      <td>163483.15625</td>\n",
       "    </tr>\n",
       "  </tbody>\n",
       "</table>\n",
       "<p>101 rows × 6 columns</p>\n",
       "</div>"
      ],
      "text/plain": [
       "              loss         mae            mse      val_loss     val_mae  \\\n",
       "0    157327.171875  358.328979  157327.171875  163483.15625  364.465851   \n",
       "1    157327.125000  358.329102  157327.125000  163483.15625  364.465851   \n",
       "2    157327.140625  358.329010  157327.140625  163483.15625  364.465851   \n",
       "3    157327.203125  358.328857  157327.203125  163483.15625  364.465851   \n",
       "4    157327.156250  358.329254  157327.156250  163483.15625  364.465851   \n",
       "..             ...         ...            ...           ...         ...   \n",
       "96   157327.125000  358.329285  157327.125000  163483.15625  364.465851   \n",
       "97   157327.093750  358.329041  157327.093750  163483.15625  364.465851   \n",
       "98   157327.140625  358.329041  157327.140625  163483.15625  364.465851   \n",
       "99   157327.125000  358.328857  157327.125000  163483.15625  364.465851   \n",
       "100  157327.015625  358.329010  157327.015625  163483.15625  364.465851   \n",
       "\n",
       "          val_mse  \n",
       "0    163483.15625  \n",
       "1    163483.15625  \n",
       "2    163483.15625  \n",
       "3    163483.15625  \n",
       "4    163483.15625  \n",
       "..            ...  \n",
       "96   163483.15625  \n",
       "97   163483.15625  \n",
       "98   163483.15625  \n",
       "99   163483.15625  \n",
       "100  163483.15625  \n",
       "\n",
       "[101 rows x 6 columns]"
      ]
     },
     "execution_count": 28,
     "metadata": {},
     "output_type": "execute_result"
    }
   ],
   "source": [
    "log = pd.DataFrame(log)"
   ]
  },
  {
   "cell_type": "code",
   "execution_count": 32,
   "metadata": {},
   "outputs": [
    {
     "ename": "ValueError",
     "evalue": "x and y must have same first dimension, but have shapes (150,) and (101,)",
     "output_type": "error",
     "traceback": [
      "\u001b[1;31m---------------------------------------------------------------------------\u001b[0m",
      "\u001b[1;31mValueError\u001b[0m                                Traceback (most recent call last)",
      "\u001b[1;32m<ipython-input-32-afe60f458a28>\u001b[0m in \u001b[0;36m<module>\u001b[1;34m\u001b[0m\n\u001b[0;32m     14\u001b[0m \u001b[0mv_mae\u001b[0m \u001b[1;33m=\u001b[0m \u001b[0mlog\u001b[0m\u001b[1;33m[\u001b[0m\u001b[1;34m'val_mse'\u001b[0m\u001b[1;33m]\u001b[0m\u001b[1;33m\u001b[0m\u001b[1;33m\u001b[0m\u001b[0m\n\u001b[0;32m     15\u001b[0m \u001b[1;33m\u001b[0m\u001b[0m\n\u001b[1;32m---> 16\u001b[1;33m \u001b[0mplot_graph\u001b[0m\u001b[1;33m(\u001b[0m\u001b[0mt_losses\u001b[0m\u001b[1;33m,\u001b[0m \u001b[0mv_losses\u001b[0m\u001b[1;33m,\u001b[0m \u001b[1;36m150\u001b[0m\u001b[1;33m,\u001b[0m \u001b[1;34m'loss(train)'\u001b[0m\u001b[1;33m,\u001b[0m \u001b[1;34m'loss(validate)'\u001b[0m\u001b[1;33m)\u001b[0m\u001b[1;33m\u001b[0m\u001b[1;33m\u001b[0m\u001b[0m\n\u001b[0m",
      "\u001b[1;32m<ipython-input-32-afe60f458a28>\u001b[0m in \u001b[0;36mplot_graph\u001b[1;34m(values1, values2, rng, label1, label2)\u001b[0m\n\u001b[0;32m      1\u001b[0m \u001b[1;32mdef\u001b[0m \u001b[0mplot_graph\u001b[0m\u001b[1;33m(\u001b[0m\u001b[0mvalues1\u001b[0m\u001b[1;33m,\u001b[0m \u001b[0mvalues2\u001b[0m\u001b[1;33m,\u001b[0m \u001b[0mrng\u001b[0m\u001b[1;33m,\u001b[0m \u001b[0mlabel1\u001b[0m\u001b[1;33m,\u001b[0m \u001b[0mlabel2\u001b[0m\u001b[1;33m)\u001b[0m\u001b[1;33m:\u001b[0m\u001b[1;33m\u001b[0m\u001b[1;33m\u001b[0m\u001b[0m\n\u001b[1;32m----> 2\u001b[1;33m     \u001b[0mplt\u001b[0m\u001b[1;33m.\u001b[0m\u001b[0mplot\u001b[0m\u001b[1;33m(\u001b[0m\u001b[0mrange\u001b[0m\u001b[1;33m(\u001b[0m\u001b[0mrng\u001b[0m\u001b[1;33m)\u001b[0m\u001b[1;33m,\u001b[0m \u001b[0mvalues1\u001b[0m\u001b[1;33m,\u001b[0m \u001b[0mlabel\u001b[0m\u001b[1;33m=\u001b[0m\u001b[0mlabel1\u001b[0m\u001b[1;33m)\u001b[0m\u001b[1;33m\u001b[0m\u001b[1;33m\u001b[0m\u001b[0m\n\u001b[0m\u001b[0;32m      3\u001b[0m     \u001b[0mplt\u001b[0m\u001b[1;33m.\u001b[0m\u001b[0mplot\u001b[0m\u001b[1;33m(\u001b[0m\u001b[0mrange\u001b[0m\u001b[1;33m(\u001b[0m\u001b[0mrng\u001b[0m\u001b[1;33m)\u001b[0m\u001b[1;33m,\u001b[0m \u001b[0mvalues2\u001b[0m\u001b[1;33m,\u001b[0m \u001b[0mlabel\u001b[0m\u001b[1;33m=\u001b[0m\u001b[0mlabel2\u001b[0m\u001b[1;33m)\u001b[0m\u001b[1;33m\u001b[0m\u001b[1;33m\u001b[0m\u001b[0m\n\u001b[0;32m      4\u001b[0m     \u001b[0mplt\u001b[0m\u001b[1;33m.\u001b[0m\u001b[0mlegend\u001b[0m\u001b[1;33m(\u001b[0m\u001b[1;33m)\u001b[0m\u001b[1;33m\u001b[0m\u001b[1;33m\u001b[0m\u001b[0m\n\u001b[0;32m      5\u001b[0m     \u001b[0mplt\u001b[0m\u001b[1;33m.\u001b[0m\u001b[0mgrid\u001b[0m\u001b[1;33m(\u001b[0m\u001b[1;33m)\u001b[0m\u001b[1;33m\u001b[0m\u001b[1;33m\u001b[0m\u001b[0m\n",
      "\u001b[1;32m~\\anaconda3\\lib\\site-packages\\matplotlib\\pyplot.py\u001b[0m in \u001b[0;36mplot\u001b[1;34m(scalex, scaley, data, *args, **kwargs)\u001b[0m\n\u001b[0;32m   2838\u001b[0m \u001b[1;33m@\u001b[0m\u001b[0m_copy_docstring_and_deprecators\u001b[0m\u001b[1;33m(\u001b[0m\u001b[0mAxes\u001b[0m\u001b[1;33m.\u001b[0m\u001b[0mplot\u001b[0m\u001b[1;33m)\u001b[0m\u001b[1;33m\u001b[0m\u001b[1;33m\u001b[0m\u001b[0m\n\u001b[0;32m   2839\u001b[0m \u001b[1;32mdef\u001b[0m \u001b[0mplot\u001b[0m\u001b[1;33m(\u001b[0m\u001b[1;33m*\u001b[0m\u001b[0margs\u001b[0m\u001b[1;33m,\u001b[0m \u001b[0mscalex\u001b[0m\u001b[1;33m=\u001b[0m\u001b[1;32mTrue\u001b[0m\u001b[1;33m,\u001b[0m \u001b[0mscaley\u001b[0m\u001b[1;33m=\u001b[0m\u001b[1;32mTrue\u001b[0m\u001b[1;33m,\u001b[0m \u001b[0mdata\u001b[0m\u001b[1;33m=\u001b[0m\u001b[1;32mNone\u001b[0m\u001b[1;33m,\u001b[0m \u001b[1;33m**\u001b[0m\u001b[0mkwargs\u001b[0m\u001b[1;33m)\u001b[0m\u001b[1;33m:\u001b[0m\u001b[1;33m\u001b[0m\u001b[1;33m\u001b[0m\u001b[0m\n\u001b[1;32m-> 2840\u001b[1;33m     return gca().plot(\n\u001b[0m\u001b[0;32m   2841\u001b[0m         \u001b[1;33m*\u001b[0m\u001b[0margs\u001b[0m\u001b[1;33m,\u001b[0m \u001b[0mscalex\u001b[0m\u001b[1;33m=\u001b[0m\u001b[0mscalex\u001b[0m\u001b[1;33m,\u001b[0m \u001b[0mscaley\u001b[0m\u001b[1;33m=\u001b[0m\u001b[0mscaley\u001b[0m\u001b[1;33m,\u001b[0m\u001b[1;33m\u001b[0m\u001b[1;33m\u001b[0m\u001b[0m\n\u001b[0;32m   2842\u001b[0m         **({\"data\": data} if data is not None else {}), **kwargs)\n",
      "\u001b[1;32m~\\anaconda3\\lib\\site-packages\\matplotlib\\axes\\_axes.py\u001b[0m in \u001b[0;36mplot\u001b[1;34m(self, scalex, scaley, data, *args, **kwargs)\u001b[0m\n\u001b[0;32m   1741\u001b[0m         \"\"\"\n\u001b[0;32m   1742\u001b[0m         \u001b[0mkwargs\u001b[0m \u001b[1;33m=\u001b[0m \u001b[0mcbook\u001b[0m\u001b[1;33m.\u001b[0m\u001b[0mnormalize_kwargs\u001b[0m\u001b[1;33m(\u001b[0m\u001b[0mkwargs\u001b[0m\u001b[1;33m,\u001b[0m \u001b[0mmlines\u001b[0m\u001b[1;33m.\u001b[0m\u001b[0mLine2D\u001b[0m\u001b[1;33m)\u001b[0m\u001b[1;33m\u001b[0m\u001b[1;33m\u001b[0m\u001b[0m\n\u001b[1;32m-> 1743\u001b[1;33m         \u001b[0mlines\u001b[0m \u001b[1;33m=\u001b[0m \u001b[1;33m[\u001b[0m\u001b[1;33m*\u001b[0m\u001b[0mself\u001b[0m\u001b[1;33m.\u001b[0m\u001b[0m_get_lines\u001b[0m\u001b[1;33m(\u001b[0m\u001b[1;33m*\u001b[0m\u001b[0margs\u001b[0m\u001b[1;33m,\u001b[0m \u001b[0mdata\u001b[0m\u001b[1;33m=\u001b[0m\u001b[0mdata\u001b[0m\u001b[1;33m,\u001b[0m \u001b[1;33m**\u001b[0m\u001b[0mkwargs\u001b[0m\u001b[1;33m)\u001b[0m\u001b[1;33m]\u001b[0m\u001b[1;33m\u001b[0m\u001b[1;33m\u001b[0m\u001b[0m\n\u001b[0m\u001b[0;32m   1744\u001b[0m         \u001b[1;32mfor\u001b[0m \u001b[0mline\u001b[0m \u001b[1;32min\u001b[0m \u001b[0mlines\u001b[0m\u001b[1;33m:\u001b[0m\u001b[1;33m\u001b[0m\u001b[1;33m\u001b[0m\u001b[0m\n\u001b[0;32m   1745\u001b[0m             \u001b[0mself\u001b[0m\u001b[1;33m.\u001b[0m\u001b[0madd_line\u001b[0m\u001b[1;33m(\u001b[0m\u001b[0mline\u001b[0m\u001b[1;33m)\u001b[0m\u001b[1;33m\u001b[0m\u001b[1;33m\u001b[0m\u001b[0m\n",
      "\u001b[1;32m~\\anaconda3\\lib\\site-packages\\matplotlib\\axes\\_base.py\u001b[0m in \u001b[0;36m__call__\u001b[1;34m(self, data, *args, **kwargs)\u001b[0m\n\u001b[0;32m    271\u001b[0m                 \u001b[0mthis\u001b[0m \u001b[1;33m+=\u001b[0m \u001b[0margs\u001b[0m\u001b[1;33m[\u001b[0m\u001b[1;36m0\u001b[0m\u001b[1;33m]\u001b[0m\u001b[1;33m,\u001b[0m\u001b[1;33m\u001b[0m\u001b[1;33m\u001b[0m\u001b[0m\n\u001b[0;32m    272\u001b[0m                 \u001b[0margs\u001b[0m \u001b[1;33m=\u001b[0m \u001b[0margs\u001b[0m\u001b[1;33m[\u001b[0m\u001b[1;36m1\u001b[0m\u001b[1;33m:\u001b[0m\u001b[1;33m]\u001b[0m\u001b[1;33m\u001b[0m\u001b[1;33m\u001b[0m\u001b[0m\n\u001b[1;32m--> 273\u001b[1;33m             \u001b[1;32myield\u001b[0m \u001b[1;32mfrom\u001b[0m \u001b[0mself\u001b[0m\u001b[1;33m.\u001b[0m\u001b[0m_plot_args\u001b[0m\u001b[1;33m(\u001b[0m\u001b[0mthis\u001b[0m\u001b[1;33m,\u001b[0m \u001b[0mkwargs\u001b[0m\u001b[1;33m)\u001b[0m\u001b[1;33m\u001b[0m\u001b[1;33m\u001b[0m\u001b[0m\n\u001b[0m\u001b[0;32m    274\u001b[0m \u001b[1;33m\u001b[0m\u001b[0m\n\u001b[0;32m    275\u001b[0m     \u001b[1;32mdef\u001b[0m \u001b[0mget_next_color\u001b[0m\u001b[1;33m(\u001b[0m\u001b[0mself\u001b[0m\u001b[1;33m)\u001b[0m\u001b[1;33m:\u001b[0m\u001b[1;33m\u001b[0m\u001b[1;33m\u001b[0m\u001b[0m\n",
      "\u001b[1;32m~\\anaconda3\\lib\\site-packages\\matplotlib\\axes\\_base.py\u001b[0m in \u001b[0;36m_plot_args\u001b[1;34m(self, tup, kwargs)\u001b[0m\n\u001b[0;32m    397\u001b[0m \u001b[1;33m\u001b[0m\u001b[0m\n\u001b[0;32m    398\u001b[0m         \u001b[1;32mif\u001b[0m \u001b[0mx\u001b[0m\u001b[1;33m.\u001b[0m\u001b[0mshape\u001b[0m\u001b[1;33m[\u001b[0m\u001b[1;36m0\u001b[0m\u001b[1;33m]\u001b[0m \u001b[1;33m!=\u001b[0m \u001b[0my\u001b[0m\u001b[1;33m.\u001b[0m\u001b[0mshape\u001b[0m\u001b[1;33m[\u001b[0m\u001b[1;36m0\u001b[0m\u001b[1;33m]\u001b[0m\u001b[1;33m:\u001b[0m\u001b[1;33m\u001b[0m\u001b[1;33m\u001b[0m\u001b[0m\n\u001b[1;32m--> 399\u001b[1;33m             raise ValueError(f\"x and y must have same first dimension, but \"\n\u001b[0m\u001b[0;32m    400\u001b[0m                              f\"have shapes {x.shape} and {y.shape}\")\n\u001b[0;32m    401\u001b[0m         \u001b[1;32mif\u001b[0m \u001b[0mx\u001b[0m\u001b[1;33m.\u001b[0m\u001b[0mndim\u001b[0m \u001b[1;33m>\u001b[0m \u001b[1;36m2\u001b[0m \u001b[1;32mor\u001b[0m \u001b[0my\u001b[0m\u001b[1;33m.\u001b[0m\u001b[0mndim\u001b[0m \u001b[1;33m>\u001b[0m \u001b[1;36m2\u001b[0m\u001b[1;33m:\u001b[0m\u001b[1;33m\u001b[0m\u001b[1;33m\u001b[0m\u001b[0m\n",
      "\u001b[1;31mValueError\u001b[0m: x and y must have same first dimension, but have shapes (150,) and (101,)"
     ]
    },
    {
     "data": {
      "image/png": "[encoded data removed]",
      "text/plain": [
       "<Figure size 432x288 with 1 Axes>"
      ]
     },
     "metadata": {
      "needs_background": "light"
     },
     "output_type": "display_data"
    }
   ],
   "source": [
    "def plot_graph(values1, values2, rng, label1, label2):\n",
    "    plt.plot(range(rng), values1, label=label1)\n",
    "    plt.plot(range(rng), values2, label=label2)\n",
    "    plt.legend()\n",
    "    plt.grid()\n",
    "    plt.show()\n",
    "\n",
    "\n",
    "t_losses = log['loss']\n",
    "t_mae = log['mae']\n",
    "t_mse = log['mse']\n",
    "v_losses = log['val_loss']\n",
    "v_mae = log['val_mae']\n",
    "v_mae = log['val_mse']\n",
    "\n",
    "plot_graph(t_losses, v_losses, 150, 'loss(train)', 'loss(validate)')"
   ]
  },
  {
   "cell_type": "code",
   "execution_count": 36,
   "metadata": {},
   "outputs": [
    {
     "data": {
      "text/plain": [
       "[<matplotlib.lines.Line2D at 0x26fb9bb2d00>]"
      ]
     },
     "execution_count": 36,
     "metadata": {},
     "output_type": "execute_result"
    },
    {
     "data": {
      "text/plain": [
       "[<matplotlib.lines.Line2D at 0x26fb9bc1130>]"
      ]
     },
     "execution_count": 36,
     "metadata": {},
     "output_type": "execute_result"
    },
    {
     "data": {
      "text/plain": [
       "<matplotlib.legend.Legend at 0x26fb9bb2f40>"
      ]
     },
     "execution_count": 36,
     "metadata": {},
     "output_type": "execute_result"
    },
    {
     "data": {
      "image/png": "[encoded data removed]",
      "text/plain": [
       "<Figure size 432x288 with 1 Axes>"
      ]
     },
     "metadata": {
      "needs_background": "light"
     },
     "output_type": "display_data"
    }
   ],
   "source": [
    "plt.plot(log['mae'], label='mae')\n",
    "plt.plot(log['loss'], label='loss')\n",
    "plt.legend()\n",
    "plt.show()"
   ]
  },
  {
   "cell_type": "code",
   "execution_count": 34,
   "metadata": {},
   "outputs": [
    {
     "data": {
      "text/plain": [
       "0      157327.171875\n",
       "1      157327.125000\n",
       "2      157327.140625\n",
       "3      157327.203125\n",
       "4      157327.156250\n",
       "           ...      \n",
       "96     157327.125000\n",
       "97     157327.093750\n",
       "98     157327.140625\n",
       "99     157327.125000\n",
       "100    157327.015625\n",
       "Name: loss, Length: 101, dtype: float64"
      ]
     },
     "execution_count": 34,
     "metadata": {},
     "output_type": "execute_result"
    }
   ],
   "source": [
    "log['loss']"
   ]
  },
  {
   "cell_type": "code",
   "execution_count": null,
   "metadata": {},
   "outputs": [],
   "source": []
  },
  {
   "cell_type": "code",
   "execution_count": null,
   "metadata": {},
   "outputs": [],
   "source": []
  },
  {
   "cell_type": "code",
   "execution_count": null,
   "metadata": {},
   "outputs": [],
   "source": []
  },
  {
   "cell_type": "code",
   "execution_count": null,
   "metadata": {},
   "outputs": [],
   "source": []
  },
  {
   "cell_type": "code",
   "execution_count": 120,
   "metadata": {},
   "outputs": [],
   "source": [
    "import tensorflow as tf  # ライブラリ「TensorFlow」のtensorflowパッケージをインポート\n",
    "from tensorflow.keras import layers    # レイヤー関連モジュールのインポート\n",
    "from IPython.display import Image\n",
    "\n",
    "# 定数（モデル定義時に必要となるもの）\n",
    "INPUT_FEATURES = 108    # 入力（特徴）の数： 2（＝X座標とY座標）\n",
    "LAYER1_NEURONS = 64    # ニューロンの数： 4\n",
    "LAYER2_NEURONS = 32    # ニューロンの数： 3\n",
    "OUTPUT_RESULTS = 1    # 出力結果の数： 1（＝結果は基本的に「-1.0」～「1.0」の数値）\n",
    "\n",
    "# 変数（モデル定義時に必要となるもの）\n",
    "activation1 = layers.Activation('relu' # 活性化関数（隠れ層用）： tanh関数（変更可能）\n",
    "    , name='activation1'               # 名前付け\n",
    "    )\n",
    "activation2 = layers.Activation('relu' # 活性化関数（隠れ層用）： tanh関数（変更可能）\n",
    "    , name='activation2'               \n",
    "    )\n",
    "acti_out = layers.Activation('linear'  # 活性化関数（出力層用）： 恒等関数（固定）\n",
    "    , name='acti_out'                  \n",
    "    )\n",
    "\n",
    "# tf.keras.Modelによるモデルの定義\n",
    "class NeuralNetwork(tf.keras.Model):\n",
    "\n",
    "  # ### レイヤーを定義 ###\n",
    "  def __init__(self):\n",
    "    super(NeuralNetwork, self).__init__()\n",
    "\n",
    "    # 入力層は定義「不要」。実際の入力によって決まるので\n",
    "\n",
    "    # 隠れ層：1つ目のレイヤー（layer）\n",
    "    self.layer1 = layers.Dense(    # 全結合層（線形変換）\n",
    "      #input_shape=(INPUT_FEATURES,),  # 入力層（定義不要）\n",
    "      LAYER1_NEURONS,              # 次のレイヤーへの出力ユニット数\n",
    "      name='layer1')\n",
    "\n",
    "    # 隠れ層：2つ目のレイヤー（layer）\n",
    "    self.layer2 = layers.Dense(    # 全結合層\n",
    "      LAYER2_NEURONS,              # 次のレイヤーへの出力ユニット数\n",
    "      name='layer2')\n",
    "\n",
    "    # 出力層\n",
    "    self.layer_out = layers.Dense( # 全結合層\n",
    "      OUTPUT_RESULTS,              # 出力結果への出力ユニット数\n",
    "      name='layer_out')\n",
    "\n",
    "  # ### フォワードパスを定義 ###\n",
    "  def call(self, inputs, training=None):   # 入力と、訓練／評価モード\n",
    "    # 「出力＝活性化関数（第n層（入力））」の形式で記述\n",
    "    x1 = activation1(self.layer1(inputs))  # 活性化関数は変数として定義\n",
    "    x2 = activation2(self.layer2(x1))      # 同上\n",
    "    outputs = acti_out(self.layer_out(x2)) # そのまま出力（＝「恒等関数」）\n",
    "    return outputs\n",
    "\n",
    "  # モデル内容の出力を行う独自メソッド\n",
    "    def get_functional_model(self):\n",
    "        x = layers.Input(shape=(INPUT_FEATURES,), name='input_features')\n",
    "        static_model = tf.keras.Model(inputs=[x], outputs=self.call(x)) \n",
    "        return static_model"
   ]
  },
  {
   "cell_type": "code",
   "execution_count": 121,
   "metadata": {},
   "outputs": [
    {
     "ename": "AttributeError",
     "evalue": "'NeuralNetwork' object has no attribute 'get_functional_model'",
     "output_type": "error",
     "traceback": [
      "\u001b[1;31m---------------------------------------------------------------------------\u001b[0m",
      "\u001b[1;31mAttributeError\u001b[0m                            Traceback (most recent call last)",
      "\u001b[1;32m<ipython-input-121-d26a2e7b009e>\u001b[0m in \u001b[0;36m<module>\u001b[1;34m\u001b[0m\n\u001b[0;32m      1\u001b[0m \u001b[1;31m# モデル（NeuralNetworkクラス）のインスタンス化\u001b[0m\u001b[1;33m\u001b[0m\u001b[1;33m\u001b[0m\u001b[1;33m\u001b[0m\u001b[0m\n\u001b[0;32m      2\u001b[0m \u001b[0mmodel\u001b[0m \u001b[1;33m=\u001b[0m \u001b[0mNeuralNetwork\u001b[0m\u001b[1;33m(\u001b[0m\u001b[1;33m)\u001b[0m\u001b[1;33m\u001b[0m\u001b[1;33m\u001b[0m\u001b[0m\n\u001b[1;32m----> 3\u001b[1;33m \u001b[0mf_model\u001b[0m \u001b[1;33m=\u001b[0m \u001b[0mmodel\u001b[0m\u001b[1;33m.\u001b[0m\u001b[0mget_functional_model\u001b[0m\u001b[1;33m(\u001b[0m\u001b[1;33m)\u001b[0m\u001b[1;33m\u001b[0m\u001b[1;33m\u001b[0m\u001b[0m\n\u001b[0m\u001b[0;32m      4\u001b[0m \u001b[0mf_model\u001b[0m\u001b[1;33m.\u001b[0m\u001b[0msummary\u001b[0m\u001b[1;33m(\u001b[0m\u001b[1;33m)\u001b[0m \u001b[1;31m# モデルの内容を出力\u001b[0m\u001b[1;33m\u001b[0m\u001b[1;33m\u001b[0m\u001b[0m\n",
      "\u001b[1;31mAttributeError\u001b[0m: 'NeuralNetwork' object has no attribute 'get_functional_model'"
     ]
    }
   ],
   "source": [
    "# モデル（NeuralNetworkクラス）のインスタンス化\n",
    "model = NeuralNetwork()\n",
    "f_model = model.get_functional_model()\n",
    "f_model.summary() # モデルの内容を出力"
   ]
  },
  {
   "cell_type": "code",
   "execution_count": null,
   "metadata": {},
   "outputs": [],
   "source": []
  }
 ],
 "metadata": {
  "jupytext": {
   "cell_metadata_filter": "-all",
   "notebook_metadata_filter": "-all"
  },
  "kernelspec": {
   "display_name": "Python 3",
   "language": "python",
   "name": "python3"
  },
  "language_info": {
   "codemirror_mode": {
    "name": "ipython",
    "version": 3
   },
   "file_extension": ".py",
   "mimetype": "text/x-python",
   "name": "python",
   "nbconvert_exporter": "python",
   "pygments_lexer": "ipython3",
   "version": "3.8.3"
  }
 },
 "nbformat": 4,
 "nbformat_minor": 4
}
